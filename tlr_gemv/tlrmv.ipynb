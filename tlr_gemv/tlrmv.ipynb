{
 "cells": [
  {
   "cell_type": "code",
   "execution_count": 2,
   "metadata": {},
   "outputs": [],
   "source": [
    "import numpy as np\n",
    "import matplotlib.pyplot as plt\n",
    "from collections import defaultdict"
   ]
  },
  {
   "cell_type": "code",
   "execution_count": 3,
   "metadata": {},
   "outputs": [],
   "source": [
    "def loadbd(filename):\n",
    "    bd = []\n",
    "    time = []\n",
    "    with open(filename) as f:\n",
    "        while 1:\n",
    "            line = f.readline()\n",
    "            if not line:\n",
    "                break\n",
    "            if 'Band' in line:\n",
    "                line = line.strip('\\n').split(' ')\n",
    "                bd.append(float(line[-2]))\n",
    "                time.append(float(line[1]))\n",
    "    bd = np.median(np.array(bd))\n",
    "    time = np.median(np.array(time))\n",
    "    return bd,time"
   ]
  },
  {
   "cell_type": "code",
   "execution_count": 4,
   "metadata": {},
   "outputs": [],
   "source": [
    "arch=['p100','v100','a100']\n",
    "gsize=['1','2','4']\n",
    "typestr = [\n",
    "    ['cublas1s','cublas2s','cublas4s','magma_maxcheck','magma_nocheck','magma_fixedbatch'],\n",
    "    ['cublas1s','cublas2s','magma_maxcheck','magma_nocheck','magma_fixedbatch'],\n",
    "    ['cublas1s','magma_maxcheck','magma_nocheck','magma_fixedbatch']\n",
    "]"
   ]
  },
  {
   "cell_type": "code",
   "execution_count": 5,
   "metadata": {},
   "outputs": [
    {
     "name": "stdout",
     "output_type": "stream",
     "text": [
      "GArch: p100 #GPU: 1 Type:          cublas1s Bandwidth:  247.44 Time:  0.001617\n",
      "GArch: p100 #GPU: 1 Type:          cublas2s Bandwidth:  271.24 Time:  0.001475\n",
      "GArch: p100 #GPU: 1 Type:          cublas4s Bandwidth:  281.76 Time:  0.001420\n",
      "GArch: p100 #GPU: 1 Type:    magma_maxcheck Bandwidth:  368.74 Time:  0.001085\n",
      "GArch: p100 #GPU: 1 Type:     magma_nocheck Bandwidth:  444.54 Time:  0.000900\n",
      "GArch: p100 #GPU: 1 Type:  magma_fixedbatch Bandwidth:  588.20 Time:  0.000680\n",
      "GArch: p100 #GPU: 2 Type:          cublas1s Bandwidth:  457.76 Time:  0.000874\n",
      "GArch: p100 #GPU: 2 Type:          cublas2s Bandwidth:  447.62 Time:  0.000894\n",
      "GArch: p100 #GPU: 2 Type:    magma_maxcheck Bandwidth:  554.76 Time:  0.000721\n",
      "GArch: p100 #GPU: 2 Type:     magma_nocheck Bandwidth:  808.35 Time:  0.000495\n",
      "GArch: p100 #GPU: 2 Type:  magma_fixedbatch Bandwidth: 1105.49 Time:  0.000362\n",
      "GArch: p100 #GPU: 4 Type:          cublas1s Bandwidth:  781.62 Time:  0.000512\n",
      "GArch: p100 #GPU: 4 Type:    magma_maxcheck Bandwidth:  842.02 Time:  0.000475\n",
      "GArch: p100 #GPU: 4 Type:     magma_nocheck Bandwidth: 1413.77 Time:  0.000283\n",
      "GArch: p100 #GPU: 4 Type:  magma_fixedbatch Bandwidth: 1755.38 Time:  0.000228\n",
      "GArch: v100 #GPU: 1 Type:          cublas1s Bandwidth:  143.46 Time:  0.002789\n",
      "GArch: v100 #GPU: 1 Type:          cublas2s Bandwidth:  116.17 Time:  0.003444\n",
      "GArch: v100 #GPU: 1 Type:          cublas4s Bandwidth:   85.64 Time:  0.004672\n",
      "GArch: v100 #GPU: 1 Type:    magma_maxcheck Bandwidth:  627.11 Time:  0.000638\n",
      "GArch: v100 #GPU: 1 Type:     magma_nocheck Bandwidth:  828.30 Time:  0.000483\n",
      "GArch: v100 #GPU: 1 Type:  magma_fixedbatch Bandwidth:  633.02 Time:  0.000632\n",
      "GArch: v100 #GPU: 2 Type:          cublas1s Bandwidth:  227.85 Time:  0.001756\n",
      "GArch: v100 #GPU: 2 Type:          cublas2s Bandwidth:  167.48 Time:  0.002389\n",
      "GArch: v100 #GPU: 2 Type:    magma_maxcheck Bandwidth:  966.67 Time:  0.000414\n",
      "GArch: v100 #GPU: 2 Type:     magma_nocheck Bandwidth: 1539.58 Time:  0.000260\n",
      "GArch: v100 #GPU: 2 Type:  magma_fixedbatch Bandwidth: 1180.13 Time:  0.000339\n",
      "GArch: v100 #GPU: 4 Type:          cublas1s Bandwidth:  328.47 Time:  0.001218\n",
      "GArch: v100 #GPU: 4 Type:    magma_maxcheck Bandwidth: 1290.88 Time:  0.000310\n",
      "GArch: v100 #GPU: 4 Type:     magma_nocheck Bandwidth: 2471.49 Time:  0.000162\n",
      "GArch: v100 #GPU: 4 Type:  magma_fixedbatch Bandwidth: 2074.34 Time:  0.000193\n",
      "GArch: a100 #GPU: 1 Type:          cublas1s Bandwidth:  128.61 Time:  0.003111\n",
      "GArch: a100 #GPU: 1 Type:          cublas2s Bandwidth:  122.09 Time:  0.003277\n",
      "GArch: a100 #GPU: 1 Type:          cublas4s Bandwidth:  121.13 Time:  0.003303\n",
      "GArch: a100 #GPU: 1 Type:    magma_maxcheck Bandwidth:  395.41 Time:  0.001012\n",
      "GArch: a100 #GPU: 1 Type:     magma_nocheck Bandwidth:  561.06 Time:  0.000713\n",
      "GArch: a100 #GPU: 1 Type:  magma_fixedbatch Bandwidth:  503.95 Time:  0.000794\n",
      "GArch: a100 #GPU: 2 Type:          cublas1s Bandwidth:  233.43 Time:  0.001714\n",
      "GArch: a100 #GPU: 2 Type:          cublas2s Bandwidth:  229.13 Time:  0.001746\n",
      "GArch: a100 #GPU: 2 Type:    magma_maxcheck Bandwidth:  615.38 Time:  0.000650\n",
      "GArch: a100 #GPU: 2 Type:     magma_nocheck Bandwidth: 1018.29 Time:  0.000393\n",
      "GArch: a100 #GPU: 2 Type:  magma_fixedbatch Bandwidth:  926.13 Time:  0.000432\n",
      "GArch: a100 #GPU: 4 Type:          cublas1s Bandwidth:  404.47 Time:  0.000989\n",
      "GArch: a100 #GPU: 4 Type:    magma_maxcheck Bandwidth:  831.59 Time:  0.000481\n",
      "GArch: a100 #GPU: 4 Type:     magma_nocheck Bandwidth: 1777.69 Time:  0.000225\n",
      "GArch: a100 #GPU: 4 Type:  magma_fixedbatch Bandwidth: 1612.05 Time:  0.000248\n"
     ]
    }
   ],
   "source": [
    "for a in arch:\n",
    "    for i,g in enumerate(gsize):\n",
    "        tmptype = typestr[i]\n",
    "        for t in tmptype:\n",
    "            filename = 'log_tlrmv/log_{}_{}_{}gpu.log'.format(t,a,g)\n",
    "            b,time = loadbd(filename)\n",
    "            print('GArch:{:>5} #GPU:{:>2} Type:{:>18} Bandwidth:{:>8.2f} Time:{:>10.6f}'.format(a,g,t,b,time))"
   ]
  },
  {
   "cell_type": "code",
   "execution_count": null,
   "metadata": {},
   "outputs": [],
   "source": []
  },
  {
   "cell_type": "code",
   "execution_count": null,
   "metadata": {},
   "outputs": [],
   "source": []
  }
 ],
 "metadata": {
  "kernelspec": {
   "display_name": "Python 3",
   "language": "python",
   "name": "python3"
  },
  "language_info": {
   "codemirror_mode": {
    "name": "ipython",
    "version": 3
   },
   "file_extension": ".py",
   "mimetype": "text/x-python",
   "name": "python",
   "nbconvert_exporter": "python",
   "pygments_lexer": "ipython3",
   "version": "3.7.3"
  }
 },
 "nbformat": 4,
 "nbformat_minor": 2
}
