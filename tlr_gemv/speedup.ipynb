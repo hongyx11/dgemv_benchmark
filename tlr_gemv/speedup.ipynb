{
 "cells": [
  {
   "cell_type": "code",
   "execution_count": 2,
   "metadata": {},
   "outputs": [],
   "source": [
    "import numpy as np \n",
    "import pandas as pd \n",
    "import matplotlib.pyplot as plt\n",
    "import os"
   ]
  },
  {
   "cell_type": "code",
   "execution_count": 3,
   "metadata": {},
   "outputs": [],
   "source": [
    "logflist = os.listdir(\"log\")\n",
    "ompset = ['8OMP','4OMP','2OMP','1OMP']\n",
    "dummy = 'Sustained BandWidth (GB/s)'"
   ]
  },
  {
   "cell_type": "code",
   "execution_count": 5,
   "metadata": {},
   "outputs": [
    {
     "name": "stdout",
     "output_type": "stream",
     "text": [
      "['8OMP', '4OMP', '2OMP', '1OMP']\n"
     ]
    }
   ],
   "source": [
    "print(ompset)"
   ]
  },
  {
   "cell_type": "code",
   "execution_count": 10,
   "metadata": {},
   "outputs": [],
   "source": [
    "def getbdandtime(filename):\n",
    "    f= open('log/'+filename, 'r')\n",
    "    while 1:\n",
    "        line = f.readline()\n",
    "        if not line:\n",
    "            break\n",
    "        if line.startswith('Time'):\n",
    "            timedata = f.readline().split(' ')\n",
    "            timedata = [float(x) for x in timedata]\n",
    "        if line.startswith(\"BW\"):\n",
    "            bddata = f.readline().split(' ')\n",
    "            bddata = [float(x) for x in bddata]\n",
    "    avgtime = np.average(np.array(timedata))\n",
    "    avgbd = np.average(np.array(bddata))\n",
    "    return avgtime, avgbd\n"
   ]
  },
  {
   "cell_type": "code",
   "execution_count": 12,
   "metadata": {},
   "outputs": [
    {
     "name": "stdout",
     "output_type": "stream",
     "text": [
      "NEW1_1VE_4800_19200_150\n",
      "NEW1_1VE_4800_19200_150_1MPI_8OMP.a2_20B.676589.log\n",
      "NEW1_2VE_4800_19200_150\n",
      "NEW1_2VE_4800_19200_150_2MPI_8OMP.a2_20B.676593.log\n",
      "NEW1_4VE_4800_19200_150\n",
      "NEW1_4VE_4800_19200_150_4MPI_8OMP.a2_20B.676597.log\n",
      "NEW1_8VE_4800_19200_150\n",
      "NEW1_8VE_4800_19200_150_8MPI_8OMP.a2_20B.676601.log\n"
     ]
    }
   ],
   "source": [
    "tilesize=150\n",
    "omp = ompset[0]\n",
    "timelist = []\n",
    "bdlist = []\n",
    "for i in [1,2,4,8]:\n",
    "    prefix='NEW1_{}VE_4800_19200_{}'.format(i,tilesize)\n",
    "    print(prefix)\n",
    "    for file in logflist:\n",
    "        if file.startswith(prefix) and omp in file:\n",
    "            print(file)\n",
    "            tmpt,tmpbd = (getbdandtime(file))\n",
    "            timelist.append(tmpt)\n",
    "            bdlist.append(tmpbd)\n"
   ]
  },
  {
   "cell_type": "code",
   "execution_count": 13,
   "metadata": {},
   "outputs": [
    {
     "name": "stdout",
     "output_type": "stream",
     "text": [
      "[0.00020798635999999995, 0.00012812046, 9.786953800000003e-05, 9.5735248e-05]\n"
     ]
    }
   ],
   "source": [
    "print(timelist)"
   ]
  },
  {
   "cell_type": "code",
   "execution_count": 14,
   "metadata": {},
   "outputs": [
    {
     "name": "stdout",
     "output_type": "stream",
     "text": [
      "[892.9167199999999, 1444.801, 1888.3004, 1929.0456]\n"
     ]
    }
   ],
   "source": [
    "print(bdlist)"
   ]
  },
  {
   "cell_type": "code",
   "execution_count": 16,
   "metadata": {},
   "outputs": [
    {
     "data": {
      "image/png": "[encoded data removed]",
      "text/plain": [
       "<Figure size 432x288 with 1 Axes>"
      ]
     },
     "metadata": {
      "needs_background": "light"
     },
     "output_type": "display_data"
    }
   ],
   "source": [
    "fig, ax = plt.subplots()\n",
    "ax.set_facecolor('lightgrey')\n",
    "ax.set_alpha(0.0001)\n",
    "ax.set_ylabel('Speedup', fontsize=14)\n",
    "bdarr = np.array(bdlist)\n",
    "bdarr /= bdarr[0]\n",
    "plt.plot([1,2,4,8],linestyle='dashed',label='ideal speedup',marker='.')\n",
    "plt.plot(timelist,marker='x')\n",
    "# ax1.set_facecolor('lightgrey')\n",
    "# ax1.set_alpha(0.0001)\n",
    "# xtick = ['1','2','4','8']\n",
    "# plt.grid(which='both', color='white', linewidth='0.3')\n",
    "# plt.xlabel(\"# of GPUs\", fontsize=14)\n",
    "# plt.title('{} - MVM Scalability on NEC SX-Aurora TSUBASA 20B'.format(instrs[instridx]))\n",
    "# plt.xticks(range(len(xtick)), xtick,fontsize=12)\n",
    "# plt.savefig('plots/speedup/speedup_nec20b_{}.pdf'.format(instrs_plt[instridx]))\n",
    "plt.show()\n"
   ]
  },
  {
   "cell_type": "code",
   "execution_count": null,
   "metadata": {},
   "outputs": [],
   "source": []
  }
 ],
 "metadata": {
  "kernelspec": {
   "display_name": "Python 3",
   "language": "python",
   "name": "python3"
  },
  "language_info": {
   "codemirror_mode": {
    "name": "ipython",
    "version": 3
   },
   "file_extension": ".py",
   "mimetype": "text/x-python",
   "name": "python",
   "nbconvert_exporter": "python",
   "pygments_lexer": "ipython3",
   "version": "3.7.3"
  }
 },
 "nbformat": 4,
 "nbformat_minor": 2
}
