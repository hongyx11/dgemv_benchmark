{
 "cells": [
  {
   "cell_type": "code",
   "execution_count": 3,
   "metadata": {},
   "outputs": [],
   "source": [
    "import numpy as np \n",
    "import pandas as pd \n",
    "import matplotlib.pyplot as plt\n",
    "import os\n",
    "logflist = os.listdir(\"log\")"
   ]
  },
  {
   "cell_type": "code",
   "execution_count": 4,
   "metadata": {},
   "outputs": [],
   "source": [
    "totalnums = [8,16,32,64]\n",
    "mpinums = [8,16,32,64]\n",
    "ompnums = [totalnums[i] / mpinums[i] for i in range(4)]\n",
    "ntiles = 150\n",
    "filemap = {}"
   ]
  },
  {
   "cell_type": "code",
   "execution_count": 10,
   "metadata": {},
   "outputs": [
    {
     "name": "stdout",
     "output_type": "stream",
     "text": [
      "NEW1_1VE_4800_19200_150_8MPI_1OMP\n",
      "NEW1_2VE_4800_19200_150_16MPI_1OMP\n",
      "NEW1_3VE_4800_19200_150_32MPI_1OMP\n",
      "NEW1_4VE_4800_19200_150_64MPI_1OMP\n",
      "{1: 'NEW1_1VE_4800_19200_150_8MPI_1OMP.a2_20B.676586.log', 2: 'NEW1_2VE_4800_19200_150_16MPI_1OMP.a2_20B.676590.log'}\n"
     ]
    }
   ],
   "source": [
    "for i in range(1,5):\n",
    "    fileprefix = 'NEW1_{}VE_4800_19200_{}_{}MPI_{}OMP'.format(i,ntiles,mpinums[i-1],int(ompnums[i-1]))\n",
    "    print(fileprefix)\n",
    "    for x in logflist:\n",
    "        if x.startswith(fileprefix):\n",
    "            filemap[i] = x\n",
    "print(filemap)"
   ]
  },
  {
   "cell_type": "code",
   "execution_count": null,
   "metadata": {},
   "outputs": [],
   "source": [
    "\n",
    "kval = klist[0]\n",
    "for x in [1,2,4,8]:\n",
    "    if x.startswith(''):\n",
    "        print(x)\n",
    "        tmpflist.append(x)"
   ]
  },
  {
   "cell_type": "code",
   "execution_count": null,
   "metadata": {},
   "outputs": [],
   "source": [
    "klist = ['8MPI_8OMP', '16MPI_4OMP','32MPI_2OMP','64MPI_1OMP']\n",
    "tmpflist[0][24:33]"
   ]
  }
 ],
 "metadata": {
  "kernelspec": {
   "display_name": "Python 3",
   "language": "python",
   "name": "python3"
  },
  "language_info": {
   "codemirror_mode": {
    "name": "ipython",
    "version": 3
   },
   "file_extension": ".py",
   "mimetype": "text/x-python",
   "name": "python",
   "nbconvert_exporter": "python",
   "pygments_lexer": "ipython3",
   "version": "3.7.3"
  }
 },
 "nbformat": 4,
 "nbformat_minor": 2
}
