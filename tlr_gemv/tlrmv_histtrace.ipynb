{
 "cells": [
  {
   "cell_type": "code",
   "execution_count": 123,
   "metadata": {},
   "outputs": [],
   "source": [
    "import numpy as np \n",
    "import pandas as pd \n",
    "import matplotlib.pyplot as plt\n",
    "import os\n",
    "import numpy as np\n",
    "import matplotlib.pyplot as plt\n",
    "from collections import defaultdict"
   ]
  },
  {
   "cell_type": "code",
   "execution_count": 124,
   "metadata": {},
   "outputs": [],
   "source": [
    "def loadbd(filename):\n",
    "    bd = []\n",
    "    time = []\n",
    "    with open(filename) as f:\n",
    "        while 1:\n",
    "            line = f.readline()\n",
    "            if not line:\n",
    "                break\n",
    "            if 'BandWidth' in line:\n",
    "                line = line.strip('\\n').split(' ')\n",
    "                bd.append(float(line[-2]))\n",
    "                time.append(float(line[1]))\n",
    "#     sidx = np.random.randint(0,len(bd),1000)\n",
    "#     bd = np.array(bd)[sidx]\n",
    "#     time = np.array(time)[sidx]\n",
    "    return time,bd"
   ]
  },
  {
   "cell_type": "code",
   "execution_count": 125,
   "metadata": {},
   "outputs": [],
   "source": [
    "arch=['p100','v100','a100']\n",
    "gsize=['1','2','4']\n",
    "typestr = [\n",
    "    ['cublas1s','cublas2s','cublas4s','magma_maxcheck','magma_nocheck','magma_fixedbatch'],\n",
    "    ['cublas1s','cublas2s','magma_maxcheck','magma_nocheck','magma_fixedbatch'],\n",
    "    ['cublas1s','magma_maxcheck','magma_nocheck','magma_fixedbatch']\n",
    "]"
   ]
  },
  {
   "cell_type": "code",
   "execution_count": 126,
   "metadata": {},
   "outputs": [],
   "source": [
    "t = 'magma_maxcheck'\n",
    "a = 'p100'\n",
    "g = '4'\n",
    "prefix='log_tlrmv/log_{}_{}_{}gpu.log'.format(t,a,g)\n",
    "time,bd = loadbd(prefix)"
   ]
  },
  {
   "cell_type": "code",
   "execution_count": 127,
   "metadata": {},
   "outputs": [],
   "source": [
    "for idx,g in enumerate(gsize):\n",
    "    for a in arch:\n",
    "        ty = typestr[idx]\n",
    "        for t in ty:\n",
    "            prefix='log_tlrmv/log_{}_{}_{}gpu.log'.format(t,a,g)\n",
    "            time,bd = loadbd(prefix)\n",
    "            fig,ax=plt.subplots()\n",
    "            ax.set_facecolor('lightgrey')\n",
    "            ax.set_alpha(0.0001)\n",
    "            plt.plot(time)\n",
    "            plt.ylabel('Time (seconds)')\n",
    "            plt.xlabel('Nruns')\n",
    "            plt.xticks(fontsize=8)\n",
    "            plt.yticks(fontsize=8)\n",
    "            plt.minorticks_on()\n",
    "            plt.grid(which='both', color='white', linewidth='0.3')\n",
    "            plt.savefig('tlrmvplots/traces/time_type{}_arch{}_gpunum{}.eps'.format(t,a,g),bbox_inches='tight')\n",
    "            plt.close()\n",
    "            fig,ax=plt.subplots()\n",
    "            ax.set_facecolor('lightgrey')\n",
    "            ax.set_alpha(0.0001)\n",
    "            plt.hist(bd,bins=100)\n",
    "            plt.ylabel('Occurrences')\n",
    "            plt.xlabel('Sustained BandWidth (GB/s)')\n",
    "            plt.xticks(fontsize=8)\n",
    "            plt.yticks(fontsize=8)\n",
    "            xmax = np.array(bd).max()\n",
    "            xmin = np.array(bd).min()\n",
    "            plt.minorticks_on()\n",
    "            plt.grid(which='both', color='white', linewidth='0.3')\n",
    "            plt.savefig('tlrmvplots/traces/bd_type{}_arch{}_gpunum{}.eps'.format(t,a,g),bbox_inches='tight')\n",
    "            plt.close()\n",
    "            "
   ]
  },
  {
   "cell_type": "code",
   "execution_count": null,
   "metadata": {},
   "outputs": [],
   "source": []
  }
 ],
 "metadata": {
  "kernelspec": {
   "display_name": "Python 3",
   "language": "python",
   "name": "python3"
  },
  "language_info": {
   "codemirror_mode": {
    "name": "ipython",
    "version": 3
   },
   "file_extension": ".py",
   "mimetype": "text/x-python",
   "name": "python",
   "nbconvert_exporter": "python",
   "pygments_lexer": "ipython3",
   "version": "3.7.3"
  }
 },
 "nbformat": 4,
 "nbformat_minor": 2
}
